{
 "cells": [
  {
   "cell_type": "markdown",
   "metadata": {
    "id": "9eYDGoREw46N"
   },
   "source": [
    "<h2> 2. Exploratory Data Analysis </h2>\n",
    "\n",
    "Now, let's do Exploratory Data Analysis (EDA) to check the data and create data visuals. First, the csv file saved in the first notebbok has to be loaded.\n"
   ]
  },
  {
   "cell_type": "code",
   "execution_count": 1,
   "metadata": {},
   "outputs": [],
   "source": [
    "#Importing required libraries\n",
    "import pandas as pd\n",
    "import numpy as np\n",
    "import matplotlib.pyplot as plt\n",
    "import seaborn as sns\n",
    "\n",
    "import warnings\n",
    "warnings.filterwarnings(\"ignore\")"
   ]
  },
  {
   "cell_type": "code",
   "execution_count": 2,
   "metadata": {
    "colab": {
     "base_uri": "https://localhost:8080/",
     "height": 224
    },
    "executionInfo": {
     "elapsed": 305,
     "status": "ok",
     "timestamp": 1635373917665,
     "user": {
      "displayName": "Berkalp Altay",
      "photoUrl": "https://lh3.googleusercontent.com/a/default-user=s64",
      "userId": "04046920140933595149"
     },
     "user_tz": 240
    },
    "id": "GY6DEff14DmU",
    "outputId": "bc39a789-9292-4807-a2ba-a1e4db40057c"
   },
   "outputs": [
    {
     "data": {
      "text/html": [
       "<div>\n",
       "<style scoped>\n",
       "    .dataframe tbody tr th:only-of-type {\n",
       "        vertical-align: middle;\n",
       "    }\n",
       "\n",
       "    .dataframe tbody tr th {\n",
       "        vertical-align: top;\n",
       "    }\n",
       "\n",
       "    .dataframe thead th {\n",
       "        text-align: right;\n",
       "    }\n",
       "</style>\n",
       "<table border=\"1\" class=\"dataframe\">\n",
       "  <thead>\n",
       "    <tr style=\"text-align: right;\">\n",
       "      <th></th>\n",
       "      <th>cement</th>\n",
       "      <th>slag</th>\n",
       "      <th>ash</th>\n",
       "      <th>water</th>\n",
       "      <th>superplasticizer</th>\n",
       "      <th>coarse_agg</th>\n",
       "      <th>fine_agg</th>\n",
       "      <th>age</th>\n",
       "      <th>strength</th>\n",
       "    </tr>\n",
       "  </thead>\n",
       "  <tbody>\n",
       "    <tr>\n",
       "      <th>0</th>\n",
       "      <td>540.0</td>\n",
       "      <td>0.0</td>\n",
       "      <td>0.0</td>\n",
       "      <td>162.0</td>\n",
       "      <td>2.5</td>\n",
       "      <td>1040.0</td>\n",
       "      <td>676.0</td>\n",
       "      <td>28</td>\n",
       "      <td>79.986111</td>\n",
       "    </tr>\n",
       "    <tr>\n",
       "      <th>1</th>\n",
       "      <td>540.0</td>\n",
       "      <td>0.0</td>\n",
       "      <td>0.0</td>\n",
       "      <td>162.0</td>\n",
       "      <td>2.5</td>\n",
       "      <td>1055.0</td>\n",
       "      <td>676.0</td>\n",
       "      <td>28</td>\n",
       "      <td>61.887366</td>\n",
       "    </tr>\n",
       "    <tr>\n",
       "      <th>2</th>\n",
       "      <td>332.5</td>\n",
       "      <td>142.5</td>\n",
       "      <td>0.0</td>\n",
       "      <td>228.0</td>\n",
       "      <td>0.0</td>\n",
       "      <td>932.0</td>\n",
       "      <td>594.0</td>\n",
       "      <td>270</td>\n",
       "      <td>40.269535</td>\n",
       "    </tr>\n",
       "    <tr>\n",
       "      <th>3</th>\n",
       "      <td>332.5</td>\n",
       "      <td>142.5</td>\n",
       "      <td>0.0</td>\n",
       "      <td>228.0</td>\n",
       "      <td>0.0</td>\n",
       "      <td>932.0</td>\n",
       "      <td>594.0</td>\n",
       "      <td>365</td>\n",
       "      <td>41.052780</td>\n",
       "    </tr>\n",
       "    <tr>\n",
       "      <th>4</th>\n",
       "      <td>198.6</td>\n",
       "      <td>132.4</td>\n",
       "      <td>0.0</td>\n",
       "      <td>192.0</td>\n",
       "      <td>0.0</td>\n",
       "      <td>978.4</td>\n",
       "      <td>825.5</td>\n",
       "      <td>360</td>\n",
       "      <td>44.296075</td>\n",
       "    </tr>\n",
       "  </tbody>\n",
       "</table>\n",
       "</div>"
      ],
      "text/plain": [
       "   cement   slag  ash  water  superplasticizer  coarse_agg  fine_agg  age  \\\n",
       "0   540.0    0.0  0.0  162.0               2.5      1040.0     676.0   28   \n",
       "1   540.0    0.0  0.0  162.0               2.5      1055.0     676.0   28   \n",
       "2   332.5  142.5  0.0  228.0               0.0       932.0     594.0  270   \n",
       "3   332.5  142.5  0.0  228.0               0.0       932.0     594.0  365   \n",
       "4   198.6  132.4  0.0  192.0               0.0       978.4     825.5  360   \n",
       "\n",
       "    strength  \n",
       "0  79.986111  \n",
       "1  61.887366  \n",
       "2  40.269535  \n",
       "3  41.052780  \n",
       "4  44.296075  "
      ]
     },
     "execution_count": 2,
     "metadata": {},
     "output_type": "execute_result"
    }
   ],
   "source": [
    "df = pd.read_csv(\"concrete.csv\")\n",
    "df.head()"
   ]
  },
  {
   "cell_type": "markdown",
   "metadata": {
    "id": "j99q942SHGJd"
   },
   "source": [
    "<h3> 2.1. Summary Statistics </h3>\n",
    "In this step, I will get the summary statistics for the data set. Yet, first I will check if there are any missing values."
   ]
  },
  {
   "cell_type": "code",
   "execution_count": 3,
   "metadata": {
    "colab": {
     "base_uri": "https://localhost:8080/"
    },
    "executionInfo": {
     "elapsed": 300,
     "status": "ok",
     "timestamp": 1635374999790,
     "user": {
      "displayName": "Berkalp Altay",
      "photoUrl": "https://lh3.googleusercontent.com/a/default-user=s64",
      "userId": "04046920140933595149"
     },
     "user_tz": 240
    },
    "id": "CIHNq-ftxrsz",
    "outputId": "65cf5625-f7e2-4f14-cd65-fef100b35b43"
   },
   "outputs": [
    {
     "data": {
      "text/plain": [
       "cement              0\n",
       "slag                0\n",
       "ash                 0\n",
       "water               0\n",
       "superplasticizer    0\n",
       "coarse_agg          0\n",
       "fine_agg            0\n",
       "age                 0\n",
       "strength            0\n",
       "dtype: int64"
      ]
     },
     "execution_count": 3,
     "metadata": {},
     "output_type": "execute_result"
    }
   ],
   "source": [
    "#check for missing values\n",
    "df.isnull().sum()"
   ]
  },
  {
   "cell_type": "markdown",
   "metadata": {
    "id": "1_7wkY2Vx3Kr"
   },
   "source": [
    "We conclude that there are no missing values. Now, let's check the summary statistics for each column. "
   ]
  },
  {
   "cell_type": "code",
   "execution_count": 4,
   "metadata": {
    "colab": {
     "base_uri": "https://localhost:8080/",
     "height": 317
    },
    "executionInfo": {
     "elapsed": 331,
     "status": "ok",
     "timestamp": 1635375001969,
     "user": {
      "displayName": "Berkalp Altay",
      "photoUrl": "https://lh3.googleusercontent.com/a/default-user=s64",
      "userId": "04046920140933595149"
     },
     "user_tz": 240
    },
    "id": "eQYKrPLwxwO7",
    "outputId": "ac3d4feb-04cb-4463-94cf-8f04d99552a8"
   },
   "outputs": [
    {
     "data": {
      "text/html": [
       "<div>\n",
       "<style scoped>\n",
       "    .dataframe tbody tr th:only-of-type {\n",
       "        vertical-align: middle;\n",
       "    }\n",
       "\n",
       "    .dataframe tbody tr th {\n",
       "        vertical-align: top;\n",
       "    }\n",
       "\n",
       "    .dataframe thead th {\n",
       "        text-align: right;\n",
       "    }\n",
       "</style>\n",
       "<table border=\"1\" class=\"dataframe\">\n",
       "  <thead>\n",
       "    <tr style=\"text-align: right;\">\n",
       "      <th></th>\n",
       "      <th>cement</th>\n",
       "      <th>slag</th>\n",
       "      <th>ash</th>\n",
       "      <th>water</th>\n",
       "      <th>superplasticizer</th>\n",
       "      <th>coarse_agg</th>\n",
       "      <th>fine_agg</th>\n",
       "      <th>age</th>\n",
       "      <th>strength</th>\n",
       "    </tr>\n",
       "  </thead>\n",
       "  <tbody>\n",
       "    <tr>\n",
       "      <th>count</th>\n",
       "      <td>1030.000000</td>\n",
       "      <td>1030.000000</td>\n",
       "      <td>1030.000000</td>\n",
       "      <td>1030.000000</td>\n",
       "      <td>1030.000000</td>\n",
       "      <td>1030.000000</td>\n",
       "      <td>1030.000000</td>\n",
       "      <td>1030.000000</td>\n",
       "      <td>1030.000000</td>\n",
       "    </tr>\n",
       "    <tr>\n",
       "      <th>mean</th>\n",
       "      <td>281.165631</td>\n",
       "      <td>73.895485</td>\n",
       "      <td>54.187136</td>\n",
       "      <td>181.566359</td>\n",
       "      <td>6.203112</td>\n",
       "      <td>972.918592</td>\n",
       "      <td>773.578883</td>\n",
       "      <td>45.662136</td>\n",
       "      <td>35.817836</td>\n",
       "    </tr>\n",
       "    <tr>\n",
       "      <th>std</th>\n",
       "      <td>104.507142</td>\n",
       "      <td>86.279104</td>\n",
       "      <td>63.996469</td>\n",
       "      <td>21.355567</td>\n",
       "      <td>5.973492</td>\n",
       "      <td>77.753818</td>\n",
       "      <td>80.175427</td>\n",
       "      <td>63.169912</td>\n",
       "      <td>16.705679</td>\n",
       "    </tr>\n",
       "    <tr>\n",
       "      <th>min</th>\n",
       "      <td>102.000000</td>\n",
       "      <td>0.000000</td>\n",
       "      <td>0.000000</td>\n",
       "      <td>121.750000</td>\n",
       "      <td>0.000000</td>\n",
       "      <td>801.000000</td>\n",
       "      <td>594.000000</td>\n",
       "      <td>1.000000</td>\n",
       "      <td>2.331808</td>\n",
       "    </tr>\n",
       "    <tr>\n",
       "      <th>25%</th>\n",
       "      <td>192.375000</td>\n",
       "      <td>0.000000</td>\n",
       "      <td>0.000000</td>\n",
       "      <td>164.900000</td>\n",
       "      <td>0.000000</td>\n",
       "      <td>932.000000</td>\n",
       "      <td>730.950000</td>\n",
       "      <td>7.000000</td>\n",
       "      <td>23.707115</td>\n",
       "    </tr>\n",
       "    <tr>\n",
       "      <th>50%</th>\n",
       "      <td>272.900000</td>\n",
       "      <td>22.000000</td>\n",
       "      <td>0.000000</td>\n",
       "      <td>185.000000</td>\n",
       "      <td>6.350000</td>\n",
       "      <td>968.000000</td>\n",
       "      <td>779.510000</td>\n",
       "      <td>28.000000</td>\n",
       "      <td>34.442774</td>\n",
       "    </tr>\n",
       "    <tr>\n",
       "      <th>75%</th>\n",
       "      <td>350.000000</td>\n",
       "      <td>142.950000</td>\n",
       "      <td>118.270000</td>\n",
       "      <td>192.000000</td>\n",
       "      <td>10.160000</td>\n",
       "      <td>1029.400000</td>\n",
       "      <td>824.000000</td>\n",
       "      <td>56.000000</td>\n",
       "      <td>46.136287</td>\n",
       "    </tr>\n",
       "    <tr>\n",
       "      <th>max</th>\n",
       "      <td>540.000000</td>\n",
       "      <td>359.400000</td>\n",
       "      <td>200.100000</td>\n",
       "      <td>247.000000</td>\n",
       "      <td>32.200000</td>\n",
       "      <td>1145.000000</td>\n",
       "      <td>992.600000</td>\n",
       "      <td>365.000000</td>\n",
       "      <td>82.599225</td>\n",
       "    </tr>\n",
       "  </tbody>\n",
       "</table>\n",
       "</div>"
      ],
      "text/plain": [
       "            cement         slag          ash        water  superplasticizer  \\\n",
       "count  1030.000000  1030.000000  1030.000000  1030.000000       1030.000000   \n",
       "mean    281.165631    73.895485    54.187136   181.566359          6.203112   \n",
       "std     104.507142    86.279104    63.996469    21.355567          5.973492   \n",
       "min     102.000000     0.000000     0.000000   121.750000          0.000000   \n",
       "25%     192.375000     0.000000     0.000000   164.900000          0.000000   \n",
       "50%     272.900000    22.000000     0.000000   185.000000          6.350000   \n",
       "75%     350.000000   142.950000   118.270000   192.000000         10.160000   \n",
       "max     540.000000   359.400000   200.100000   247.000000         32.200000   \n",
       "\n",
       "        coarse_agg     fine_agg          age     strength  \n",
       "count  1030.000000  1030.000000  1030.000000  1030.000000  \n",
       "mean    972.918592   773.578883    45.662136    35.817836  \n",
       "std      77.753818    80.175427    63.169912    16.705679  \n",
       "min     801.000000   594.000000     1.000000     2.331808  \n",
       "25%     932.000000   730.950000     7.000000    23.707115  \n",
       "50%     968.000000   779.510000    28.000000    34.442774  \n",
       "75%    1029.400000   824.000000    56.000000    46.136287  \n",
       "max    1145.000000   992.600000   365.000000    82.599225  "
      ]
     },
     "execution_count": 4,
     "metadata": {},
     "output_type": "execute_result"
    }
   ],
   "source": [
    "#check min, median, max, quartiles, mean and std\n",
    "df.describe()"
   ]
  },
  {
   "cell_type": "markdown",
   "metadata": {
    "id": "4HXd4uz3zQWu"
   },
   "source": [
    "<h3> 2.2. Visualization </h3>\n",
    "\n",
    "Having seen the numerical summaries, I will continue the analysis with visualization.\n"
   ]
  },
  {
   "cell_type": "code",
   "execution_count": 5,
   "metadata": {
    "colab": {
     "base_uri": "https://localhost:8080/",
     "height": 540
    },
    "executionInfo": {
     "elapsed": 2981,
     "status": "ok",
     "timestamp": 1635375007263,
     "user": {
      "displayName": "Berkalp Altay",
      "photoUrl": "https://lh3.googleusercontent.com/a/default-user=s64",
      "userId": "04046920140933595149"
     },
     "user_tz": 240
    },
    "id": "C4YjM3Fjyb-P",
    "outputId": "2b75a8e9-5b3c-4f98-eeca-17f11d46dd8d"
   },
   "outputs": [
    {
     "data": {
      "image/png": "[encoded data removed]",
      "text/plain": [
       "<Figure size 1152x864 with 9 Axes>"
      ]
     },
     "metadata": {
      "needs_background": "light"
     },
     "output_type": "display_data"
    }
   ],
   "source": [
    "# plot histograms for each column\n",
    "i = 1\n",
    "plt.figure(figsize=(16,12))\n",
    "plt.style.use(\"seaborn\")\n",
    "for column in df:\n",
    "  plt.subplot(3, 3, i)\n",
    "  sns.distplot(df[column], kde = False, color=\"#000080\")\n",
    "  i+=1"
   ]
  },
  {
   "cell_type": "markdown",
   "metadata": {
    "id": "O6IwZDek6F1x"
   },
   "source": [
    "In the plot above, it is noticeable that most of the variables do not follow a normal distribution while one might argue that some variables like **coarse_agg** and **fine_agg** have sufficiently good approximations to the normal distributon. \n",
    "Now let's see if there are outliers using Tukey's fenses:\n",
    "\n",
    "Let $Q_{3, d} \\mbox{ and } Q_{1, d}$ be the third and first quartiles for distribution *d*, respectively.\n",
    "\n",
    "Let $g$ be the function that, when supplied with a value $x$ and a distribution d, returns 1 if $x$ is an outlier in distribution $d$ and 0 otherwise. Then, the outlier function $g$ is as follows:\n",
    "\n",
    "$g(x, d) = \\left\\{\n",
    "  \\begin{array}{ll}\n",
    "    1 & \\mbox{if } x \\geq Q_{3, d} + 1.5*(Q_{3, d} - Q_{1, d}) \\\\\n",
    "    1 & \\mbox{if } x \\leq Q_{1, d} - 1.5*(Q_{3, d} - Q_{1, d}) \\\\\n",
    "\t\t0 & \\mbox{otherwise} \n",
    "  \\end{array}\n",
    "\\right.\n",
    "$\n"
   ]
  },
  {
   "cell_type": "code",
   "execution_count": 6,
   "metadata": {
    "id": "79sRUIq8XNlZ"
   },
   "outputs": [],
   "source": [
    "#define outlier function\n",
    "#input: a distribution (such as df[\"water\"])\n",
    "#output: a list of outliers\n",
    "def find_outliers(my_dist):\n",
    "  #find quartiles\n",
    "  sorted_dist = sorted(my_dist)\n",
    "  q1, q3 = np.quantile(sorted_dist, [0.25, 0.75])\n",
    "  iqr = q3-q1\n",
    "\n",
    "  #define lower and upper bounds\n",
    "  low_b = q1 - (1.5*iqr)\n",
    "  up_b = q3 + (1.5*iqr)\n",
    "\n",
    "  outliers = [x for x in my_dist if x >= up_b or x <= low_b]\n",
    "\n",
    "  return outliers"
   ]
  },
  {
   "cell_type": "code",
   "execution_count": 7,
   "metadata": {
    "colab": {
     "base_uri": "https://localhost:8080/"
    },
    "executionInfo": {
     "elapsed": 4,
     "status": "ok",
     "timestamp": 1635375013010,
     "user": {
      "displayName": "Berkalp Altay",
      "photoUrl": "https://lh3.googleusercontent.com/a/default-user=s64",
      "userId": "04046920140933595149"
     },
     "user_tz": 240
    },
    "id": "95CSjvZ3fRLl",
    "outputId": "9ca6e57a-c16d-4e46-f4f3-26c1c58dad2d"
   },
   "outputs": [
    {
     "name": "stdout",
     "output_type": "stream",
     "text": [
      "Number of outliers by column\n",
      "cement : 0\n",
      "slag : 2\n",
      "ash : 0\n",
      "water : 9\n",
      "superplasticizer : 10\n",
      "coarse_agg : 0\n",
      "fine_agg : 5\n",
      "age : 59\n",
      "strength : 4\n"
     ]
    }
   ],
   "source": [
    "#Print number of outliers for each column\n",
    "print(\"Number of outliers by column\")\n",
    "for column in df:\n",
    "  print(column, \":\", len(find_outliers(df[column])))"
   ]
  },
  {
   "cell_type": "markdown",
   "metadata": {
    "id": "wWOcgl88XL35"
   },
   "source": [
    "Now, let's see how much correlation there is between the target variable (i.e. strength) and the input variables."
   ]
  },
  {
   "cell_type": "code",
   "execution_count": 8,
   "metadata": {
    "colab": {
     "base_uri": "https://localhost:8080/"
    },
    "executionInfo": {
     "elapsed": 317,
     "status": "ok",
     "timestamp": 1635375018657,
     "user": {
      "displayName": "Berkalp Altay",
      "photoUrl": "https://lh3.googleusercontent.com/a/default-user=s64",
      "userId": "04046920140933595149"
     },
     "user_tz": 240
    },
    "id": "rT_d-ICt0S_Z",
    "outputId": "863c8670-8754-49b5-d7b3-8a9b043bb6d7"
   },
   "outputs": [
    {
     "data": {
      "text/plain": [
       "cement              0.497833\n",
       "slag                0.134824\n",
       "ash                -0.105753\n",
       "water              -0.289613\n",
       "superplasticizer    0.366102\n",
       "coarse_agg         -0.164928\n",
       "fine_agg           -0.167249\n",
       "age                 0.328877\n",
       "Name: strength, dtype: float64"
      ]
     },
     "execution_count": 8,
     "metadata": {},
     "output_type": "execute_result"
    }
   ],
   "source": [
    "#check correlation between the target and inputs\n",
    "features = [\"cement\",\"slag\", \"ash\", \"water\", \"superplasticizer\", \"coarse_agg\", \"fine_agg\", \"age\", \"strength\"]\n",
    "df[features].corr()[\"strength\"][:].drop(\"strength\")"
   ]
  },
  {
   "cell_type": "markdown",
   "metadata": {
    "id": "hN4D-93v-ax3"
   },
   "source": [
    "Let's check correlations among all input variables using a heatmap with a dendrogram."
   ]
  },
  {
   "cell_type": "code",
   "execution_count": 9,
   "metadata": {
    "colab": {
     "base_uri": "https://localhost:8080/",
     "height": 673
    },
    "executionInfo": {
     "elapsed": 1357,
     "status": "ok",
     "timestamp": 1635375022505,
     "user": {
      "displayName": "Berkalp Altay",
      "photoUrl": "https://lh3.googleusercontent.com/a/default-user=s64",
      "userId": "04046920140933595149"
     },
     "user_tz": 240
    },
    "id": "tvxfMWJL9WvQ",
    "outputId": "54e5112b-3ab5-468c-9655-66bddb755fcc"
   },
   "outputs": [
    {
     "data": {
      "text/plain": [
       "<seaborn.matrix.ClusterGrid at 0x7f972777dbb0>"
      ]
     },
     "execution_count": 9,
     "metadata": {},
     "output_type": "execute_result"
    },
    {
     "data": {
      "text/plain": [
       "<Figure size 72x72 with 0 Axes>"
      ]
     },
     "metadata": {},
     "output_type": "display_data"
    },
    {
     "data": {
      "image/png": "[encoded data removed]",
      "text/plain": [
       "<Figure size 720x720 with 4 Axes>"
      ]
     },
     "metadata": {},
     "output_type": "display_data"
    }
   ],
   "source": [
    "#check correlations among all input variables using a clustermap (heatmap + dendrogram)\n",
    "plt.figure(figsize=(1,1))\n",
    "sns.clustermap(df.drop(\"strength\", axis=1).corr(), annot=True, center = 0, cmap=\"vlag\")"
   ]
  },
  {
   "cell_type": "markdown",
   "metadata": {
    "id": "LvWEozFw_4A_"
   },
   "source": [
    "As can be seen in the light-blue-dominated heatmap, most variables have negative to zero correlation among them.\n",
    "\n",
    "We notice a strong negative correlation between superplasticizer content and water content. This negative relationship makes sense because superplasticizers are special types of water reducers that significantly reduce the amount of water required to make concrete. Thus, as superplasticizer content increases, water content is expected to decrease."
   ]
  },
  {
   "cell_type": "markdown",
   "metadata": {
    "id": "r4fNjVwK7XeV"
   },
   "source": [
    "Since the original data set has not been modified in the Exploratory Data Analysis phase, it's not saved as it was in the first notebook. The next notebook will load the"
   ]
  },
  {
   "cell_type": "markdown",
   "metadata": {
    "id": "A2MkDfd94kul"
   },
   "source": [
    "The following Jupyter notebook will incorporate Data Preprocessing steps and the Modeling phase for some machine learning models."
   ]
  }
 ],
 "metadata": {
  "accelerator": "GPU",
  "colab": {
   "authorship_tag": "ABX9TyPec2/SUNeQr4mv8LacI1V7",
   "collapsed_sections": [],
   "name": "2. EDA.ipynb",
   "provenance": [
    {
     "file_id": "1Dks0BxGpnhyEtRwFMVYREH33nVMybcnh",
     "timestamp": 1635012694681
    }
   ],
   "toc_visible": true
  },
  "kernelspec": {
   "display_name": "Python 3",
   "language": "python",
   "name": "python3"
  },
  "language_info": {
   "codemirror_mode": {
    "name": "ipython",
    "version": 3
   },
   "file_extension": ".py",
   "mimetype": "text/x-python",
   "name": "python",
   "nbconvert_exporter": "python",
   "pygments_lexer": "ipython3",
   "version": "3.8.8"
  }
 },
 "nbformat": 4,
 "nbformat_minor": 1
}
