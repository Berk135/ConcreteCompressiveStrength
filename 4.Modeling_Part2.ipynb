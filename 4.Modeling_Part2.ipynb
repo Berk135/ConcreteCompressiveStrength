{
 "cells": [
  {
   "cell_type": "markdown",
   "metadata": {
    "id": "n_KZeq616xNN"
   },
   "source": [
    "# <h2> 4. Modeling (Part 2) </h2>\n",
    "\n",
    "First, I'm going to load the data set and then import necessary libraries."
   ]
  },
  {
   "cell_type": "code",
   "execution_count": 1,
   "metadata": {},
   "outputs": [],
   "source": [
    "import pandas as pd\n",
    "import numpy as np\n",
    "import time\n",
    "\n",
    "#Define a timer\n",
    "def print_time(start_time, end_time):\n",
    "    elapsed_time = end_time - start_time\n",
    "    hours = elapsed_time // 3600\n",
    "    mins = (elapsed_time - hours*3600)//60\n",
    "    secs = (elapsed_time - hours*3600 - mins*60) // 1\n",
    "    \n",
    "    return print(\"\\nTime elapsed: {} hours {} minutes and {} seconds\".format(hours, mins, secs))\n",
    "\n",
    "import warnings\n",
    "warnings.filterwarnings(\"ignore\")"
   ]
  },
  {
   "cell_type": "code",
   "execution_count": 2,
   "metadata": {
    "colab": {
     "base_uri": "https://localhost:8080/"
    },
    "executionInfo": {
     "elapsed": 473,
     "status": "ok",
     "timestamp": 1635375818729,
     "user": {
      "displayName": "Berkalp Altay",
      "photoUrl": "https://lh3.googleusercontent.com/a/default-user=s64",
      "userId": "04046920140933595149"
     },
     "user_tz": 240
    },
    "id": "eouHuuqg-O4I",
    "outputId": "d6dcc561-8418-43cb-82c9-422ca5cc5b8a"
   },
   "outputs": [
    {
     "name": "stdout",
     "output_type": "stream",
     "text": [
      "X_train\n",
      "   cement   slag    ash  water  superplasticizer  coarse_agg  fine_agg  age\n",
      "0   190.0  190.0    0.0  228.0               0.0       932.0     670.0  365\n",
      "1   388.6   97.1    0.0  157.9              12.1       852.1     925.7   28\n",
      "2   192.0  288.0    0.0  192.0               0.0       929.8     716.1    7\n",
      "3   164.0    0.0  200.0  181.0              13.0       849.0     846.0   28\n",
      "4   379.5  151.2    0.0  153.9              15.9      1134.3     605.0   91\n",
      "\n",
      "X_test\n",
      "   cement   slag     ash   water  superplasticizer  coarse_agg  fine_agg  age\n",
      "0  239.60  359.4    0.00  185.70              0.00       941.6    664.30   28\n",
      "1  122.60  183.9    0.00  203.50              0.00       958.2    800.10    3\n",
      "2  491.00   26.0  123.00  201.00              3.93       822.0    699.00   28\n",
      "3  190.34    0.0  125.18  161.85              9.88      1088.1    802.59  100\n",
      "4  304.00  140.0    0.00  214.00              6.00       895.0    722.00   28\n",
      "\n",
      "y_train\n",
      "    strength\n",
      "0  53.692254\n",
      "1  50.697170\n",
      "2  21.480625\n",
      "3  15.085735\n",
      "4  56.495663\n",
      "\n",
      "y_test\n",
      "    strength\n",
      "0  39.435269\n",
      "1   3.319827\n",
      "2  57.915984\n",
      "3  40.389504\n",
      "4  33.418902\n",
      "\n",
      "Results\n",
      "                         RMSE\n",
      "Linear Regression   10.659515\n",
      "KNN                  8.557282\n",
      "KNN + GridSearchCV   7.384883\n",
      "\n"
     ]
    }
   ],
   "source": [
    "#Load data sets\n",
    "X_train = pd.read_csv(\"saved_files/concrete_x_train.csv\")\n",
    "X_test = pd.read_csv(\"saved_files/concrete_x_test.csv\")\n",
    "y_train = pd.read_csv(\"saved_files/concrete_y_train.csv\")\n",
    "y_test = pd.read_csv(\"saved_files/concrete_y_test.csv\")\n",
    "results = pd.read_csv(\"saved_files/concrete_model_results.csv\", index_col = 0)\n",
    "\n",
    "#Check loaded data sets\n",
    "print(\"X_train\")\n",
    "print(X_train.head(), end = \"\\n\\n\")\n",
    "print(\"X_test\")\n",
    "print(X_test.head(), end = \"\\n\\n\")\n",
    "print(\"y_train\")\n",
    "print(y_train.head(), end = \"\\n\\n\")\n",
    "print(\"y_test\")\n",
    "print(y_test.head(), end = \"\\n\\n\")\n",
    "print(\"Results\")\n",
    "print(results, end = \"\\n\\n\")"
   ]
  },
  {
   "cell_type": "code",
   "execution_count": 3,
   "metadata": {
    "colab": {
     "base_uri": "https://localhost:8080/"
    },
    "executionInfo": {
     "elapsed": 4816,
     "status": "ok",
     "timestamp": 1635375835982,
     "user": {
      "displayName": "Berkalp Altay",
      "photoUrl": "https://lh3.googleusercontent.com/a/default-user=s64",
      "userId": "04046920140933595149"
     },
     "user_tz": 240
    },
    "id": "PcCdNGSJ5tvT",
    "outputId": "42bec432-c064-4db5-8521-be0dca5f53f3"
   },
   "outputs": [],
   "source": [
    "#import models & other required packages\n",
    "from sklearn.preprocessing import StandardScaler\n",
    "from sklearn.pipeline import Pipeline\n",
    "from sklearn.metrics import mean_squared_error\n",
    "\n",
    "#Import libraries for models\n",
    "from sklearn.model_selection import GridSearchCV\n",
    "from sklearn.ensemble import RandomForestRegressor\n",
    "#! pip install xgboost #uncomment if xgboost is not already installed \n",
    "from xgboost import XGBRegressor\n",
    "\n",
    "# install and import libraries for hyperparameters tuning\n",
    "#! pip install scikit-optimize #uncomment if scikit-optimize is not already installed\n",
    "from skopt import BayesSearchCV\n",
    "from skopt import space"
   ]
  },
  {
   "cell_type": "markdown",
   "metadata": {
    "id": "Ymr2jvsedfwK"
   },
   "source": [
    "## <h3> 4.4. Random Forest</h3>\n",
    "\n",
    "Now, I will use a Random Forest model. Although standardization is not necessarily useful for this model, I will define a pipe that will standardize the data before fitting the model for consistency.\n"
   ]
  },
  {
   "cell_type": "code",
   "execution_count": 4,
   "metadata": {
    "id": "QpN_14b2Cajx"
   },
   "outputs": [],
   "source": [
    "#define Random Forest pipe\n",
    "pipe_rf = Pipeline([(\"scaler\", StandardScaler()),\n",
    "                     (\"model\", RandomForestRegressor(random_state = 10, \n",
    "                                                     criterion = \"mse\"))\n",
    "                        \n",
    "])"
   ]
  },
  {
   "cell_type": "code",
   "execution_count": 5,
   "metadata": {
    "colab": {
     "base_uri": "https://localhost:8080/"
    },
    "executionInfo": {
     "elapsed": 675,
     "status": "ok",
     "timestamp": 1635375903394,
     "user": {
      "displayName": "Berkalp Altay",
      "photoUrl": "https://lh3.googleusercontent.com/a/default-user=s64",
      "userId": "04046920140933595149"
     },
     "user_tz": 240
    },
    "id": "zggeNfHvfC3t",
    "outputId": "7336a2ab-2728-4339-c7b8-db9a6762828c"
   },
   "outputs": [
    {
     "name": "stdout",
     "output_type": "stream",
     "text": [
      "\n",
      "Time elapsed: 0.0 hours 0.0 minutes and 0.0 seconds\n"
     ]
    }
   ],
   "source": [
    "#fit Random Forest pipe\n",
    "start_time = time.perf_counter()\n",
    "\n",
    "pipe_rf.fit(X_train, y_train)\n",
    "\n",
    "end_time = time.perf_counter()\n",
    "print_time(start_time, end_time)"
   ]
  },
  {
   "cell_type": "code",
   "execution_count": 6,
   "metadata": {
    "colab": {
     "base_uri": "https://localhost:8080/"
    },
    "executionInfo": {
     "elapsed": 302,
     "status": "ok",
     "timestamp": 1635375905927,
     "user": {
      "displayName": "Berkalp Altay",
      "photoUrl": "https://lh3.googleusercontent.com/a/default-user=s64",
      "userId": "04046920140933595149"
     },
     "user_tz": 240
    },
    "id": "1VxVIp_RfIp8",
    "outputId": "c272934d-fd86-4f8a-c992-10fc5fa5b5ca"
   },
   "outputs": [
    {
     "name": "stdout",
     "output_type": "stream",
     "text": [
      "Random Forest RMSE: 4.71044186796703\n"
     ]
    }
   ],
   "source": [
    "#Predict using fitted Random Forest model\n",
    "rf_preds = pipe_rf.predict(X_test)\n",
    "\n",
    "rf_rmse = mean_squared_error(y_test, rf_preds, squared = False)\n",
    "print(\"Random Forest RMSE:\",rf_rmse)"
   ]
  },
  {
   "cell_type": "code",
   "execution_count": 7,
   "metadata": {
    "colab": {
     "base_uri": "https://localhost:8080/",
     "height": 173
    },
    "executionInfo": {
     "elapsed": 427,
     "status": "ok",
     "timestamp": 1635375922817,
     "user": {
      "displayName": "Berkalp Altay",
      "photoUrl": "https://lh3.googleusercontent.com/a/default-user=s64",
      "userId": "04046920140933595149"
     },
     "user_tz": 240
    },
    "id": "ZbPJ6KgbftbQ",
    "outputId": "86a3c98b-fcab-4760-8e92-5df23334baf6"
   },
   "outputs": [
    {
     "data": {
      "text/html": [
       "<div>\n",
       "<style scoped>\n",
       "    .dataframe tbody tr th:only-of-type {\n",
       "        vertical-align: middle;\n",
       "    }\n",
       "\n",
       "    .dataframe tbody tr th {\n",
       "        vertical-align: top;\n",
       "    }\n",
       "\n",
       "    .dataframe thead th {\n",
       "        text-align: right;\n",
       "    }\n",
       "</style>\n",
       "<table border=\"1\" class=\"dataframe\">\n",
       "  <thead>\n",
       "    <tr style=\"text-align: right;\">\n",
       "      <th></th>\n",
       "      <th>RMSE</th>\n",
       "    </tr>\n",
       "  </thead>\n",
       "  <tbody>\n",
       "    <tr>\n",
       "      <th>Linear Regression</th>\n",
       "      <td>10.659515</td>\n",
       "    </tr>\n",
       "    <tr>\n",
       "      <th>KNN</th>\n",
       "      <td>8.557282</td>\n",
       "    </tr>\n",
       "    <tr>\n",
       "      <th>KNN + GridSearchCV</th>\n",
       "      <td>7.384883</td>\n",
       "    </tr>\n",
       "    <tr>\n",
       "      <th>Random Forest</th>\n",
       "      <td>4.710442</td>\n",
       "    </tr>\n",
       "  </tbody>\n",
       "</table>\n",
       "</div>"
      ],
      "text/plain": [
       "                         RMSE\n",
       "Linear Regression   10.659515\n",
       "KNN                  8.557282\n",
       "KNN + GridSearchCV   7.384883\n",
       "Random Forest        4.710442"
      ]
     },
     "execution_count": 7,
     "metadata": {},
     "output_type": "execute_result"
    }
   ],
   "source": [
    "#Store results\n",
    "results.loc[\"Random Forest\"] = rf_rmse\n",
    "results"
   ]
  },
  {
   "cell_type": "markdown",
   "metadata": {
    "id": "BqCiF3KDhR-j"
   },
   "source": [
    "With the Random Forest model, the RMSE is **4.71**, a major improvement over previous models."
   ]
  },
  {
   "cell_type": "markdown",
   "metadata": {
    "id": "T27v7hZThIwJ"
   },
   "source": [
    "## <h3> 4.5. Random Forest with GridSearchCV</h3>\n",
    "\n",
    "Now, I will use the cross validation and tune hyperparameters for the Random Forest model to see if we have an RMSE improvement.\n",
    "The hyperparameters I will tune are:\n",
    "\n",
    "\n",
    "*   Number of trees in the forest (i.e. *n_estimators*)\n",
    "*   Number of features to consider when looking for the best split (i.e. *max_features*)\n",
    "\n"
   ]
  },
  {
   "cell_type": "code",
   "execution_count": 8,
   "metadata": {
    "id": "bGaclUveg7TE"
   },
   "outputs": [],
   "source": [
    "#Define Random Forest + GridSearchCV pipe\n",
    "pipe_rf_grid = Pipeline([(\"scaler\", StandardScaler()),\n",
    "                          (\"model\", RandomForestRegressor(random_state = 10, criterion = \"mse\"))\n",
    "                        \n",
    "])\n",
    "#Define parameter space\n",
    "params_rf = {'model__n_estimators': range(100, 1001, 50), #from 100 to 1000 in increments of 50\n",
    "              'model__max_features': [0.3, 0.4, 0.5, 0.6, 0.7, 0.8, 0.9, 1.0]\n",
    "           }\n",
    "\n",
    "\n",
    "#use n_jobs = -1 to use all processors\n",
    "rf_grid = GridSearchCV(pipe_rf_grid, param_grid = params_rf, n_jobs = -1, cv=10, scoring='neg_root_mean_squared_error')"
   ]
  },
  {
   "cell_type": "code",
   "execution_count": 9,
   "metadata": {
    "colab": {
     "base_uri": "https://localhost:8080/"
    },
    "executionInfo": {
     "elapsed": 506122,
     "status": "ok",
     "timestamp": 1635013283642,
     "user": {
      "displayName": "Berkalp Altay",
      "photoUrl": "https://lh3.googleusercontent.com/a/default-user=s64",
      "userId": "04046920140933595149"
     },
     "user_tz": 240
    },
    "id": "BurH00jfkCAO",
    "outputId": "9070aa8a-53da-4d55-a850-f2687b9d5697"
   },
   "outputs": [
    {
     "name": "stdout",
     "output_type": "stream",
     "text": [
      "\n",
      "Time elapsed: 0.0 hours 8.0 minutes and 50.0 seconds\n"
     ]
    }
   ],
   "source": [
    "#Fit Random Forest + GridSearchCV\n",
    "start_time = time.perf_counter()\n",
    "\n",
    "rf_grid.fit(X_train, y_train)\n",
    "\n",
    "end_time = time.perf_counter()\n",
    "print_time(start_time, end_time)"
   ]
  },
  {
   "cell_type": "code",
   "execution_count": 10,
   "metadata": {
    "colab": {
     "base_uri": "https://localhost:8080/"
    },
    "executionInfo": {
     "elapsed": 23,
     "status": "ok",
     "timestamp": 1635013283643,
     "user": {
      "displayName": "Berkalp Altay",
      "photoUrl": "https://lh3.googleusercontent.com/a/default-user=s64",
      "userId": "04046920140933595149"
     },
     "user_tz": 240
    },
    "id": "iUXntqahkQv9",
    "outputId": "4e2d682a-4add-45c1-a003-c38dc4f96a2e"
   },
   "outputs": [
    {
     "name": "stdout",
     "output_type": "stream",
     "text": [
      "{'model__max_features': 0.5, 'model__n_estimators': 950}\n"
     ]
    }
   ],
   "source": [
    "#Print best parameters\n",
    "print(rf_grid.best_params_)"
   ]
  },
  {
   "cell_type": "code",
   "execution_count": 11,
   "metadata": {
    "colab": {
     "base_uri": "https://localhost:8080/"
    },
    "executionInfo": {
     "elapsed": 20,
     "status": "ok",
     "timestamp": 1635013283643,
     "user": {
      "displayName": "Berkalp Altay",
      "photoUrl": "https://lh3.googleusercontent.com/a/default-user=s64",
      "userId": "04046920140933595149"
     },
     "user_tz": 240
    },
    "id": "iWJmkKy2kWwL",
    "outputId": "bf787db6-0708-4fe9-b177-e34f6f64d767"
   },
   "outputs": [
    {
     "name": "stdout",
     "output_type": "stream",
     "text": [
      "Random Forest + GridSearchCV RMSE: 4.504616562269336\n"
     ]
    }
   ],
   "source": [
    "#Predict using fitted Random Forest + GridSearchCV model\n",
    "rf_grid_preds = rf_grid.best_estimator_.predict(X_test)\n",
    "\n",
    "rf_grid_rmse = mean_squared_error(y_test, rf_grid_preds, squared = False)\n",
    "print(\"Random Forest + GridSearchCV RMSE:\",rf_grid_rmse)"
   ]
  },
  {
   "cell_type": "code",
   "execution_count": 12,
   "metadata": {
    "colab": {
     "base_uri": "https://localhost:8080/",
     "height": 204
    },
    "executionInfo": {
     "elapsed": 11,
     "status": "ok",
     "timestamp": 1635013283644,
     "user": {
      "displayName": "Berkalp Altay",
      "photoUrl": "https://lh3.googleusercontent.com/a/default-user=s64",
      "userId": "04046920140933595149"
     },
     "user_tz": 240
    },
    "id": "GRpFAH5Ikpxu",
    "outputId": "c8ee5614-310d-4c49-ccc0-4633190fe364"
   },
   "outputs": [
    {
     "data": {
      "text/html": [
       "<div>\n",
       "<style scoped>\n",
       "    .dataframe tbody tr th:only-of-type {\n",
       "        vertical-align: middle;\n",
       "    }\n",
       "\n",
       "    .dataframe tbody tr th {\n",
       "        vertical-align: top;\n",
       "    }\n",
       "\n",
       "    .dataframe thead th {\n",
       "        text-align: right;\n",
       "    }\n",
       "</style>\n",
       "<table border=\"1\" class=\"dataframe\">\n",
       "  <thead>\n",
       "    <tr style=\"text-align: right;\">\n",
       "      <th></th>\n",
       "      <th>RMSE</th>\n",
       "    </tr>\n",
       "  </thead>\n",
       "  <tbody>\n",
       "    <tr>\n",
       "      <th>Linear Regression</th>\n",
       "      <td>10.659515</td>\n",
       "    </tr>\n",
       "    <tr>\n",
       "      <th>KNN</th>\n",
       "      <td>8.557282</td>\n",
       "    </tr>\n",
       "    <tr>\n",
       "      <th>KNN + GridSearchCV</th>\n",
       "      <td>7.384883</td>\n",
       "    </tr>\n",
       "    <tr>\n",
       "      <th>Random Forest</th>\n",
       "      <td>4.710442</td>\n",
       "    </tr>\n",
       "    <tr>\n",
       "      <th>Random Forest + GridSearchCV</th>\n",
       "      <td>4.504617</td>\n",
       "    </tr>\n",
       "  </tbody>\n",
       "</table>\n",
       "</div>"
      ],
      "text/plain": [
       "                                   RMSE\n",
       "Linear Regression             10.659515\n",
       "KNN                            8.557282\n",
       "KNN + GridSearchCV             7.384883\n",
       "Random Forest                  4.710442\n",
       "Random Forest + GridSearchCV   4.504617"
      ]
     },
     "execution_count": 12,
     "metadata": {},
     "output_type": "execute_result"
    }
   ],
   "source": [
    "#Store results\n",
    "results.loc[\"Random Forest + GridSearchCV\"] = rf_grid_rmse\n",
    "results"
   ]
  },
  {
   "cell_type": "code",
   "execution_count": 13,
   "metadata": {
    "colab": {
     "base_uri": "https://localhost:8080/",
     "height": 419
    },
    "executionInfo": {
     "elapsed": 392,
     "status": "ok",
     "timestamp": 1635013413830,
     "user": {
      "displayName": "Berkalp Altay",
      "photoUrl": "https://lh3.googleusercontent.com/a/default-user=s64",
      "userId": "04046920140933595149"
     },
     "user_tz": 240
    },
    "id": "4H_VZtbyDe7M",
    "outputId": "7d8b7359-5130-4102-f187-7f0154b45fa2"
   },
   "outputs": [
    {
     "data": {
      "text/html": [
       "<div>\n",
       "<style scoped>\n",
       "    .dataframe tbody tr th:only-of-type {\n",
       "        vertical-align: middle;\n",
       "    }\n",
       "\n",
       "    .dataframe tbody tr th {\n",
       "        vertical-align: top;\n",
       "    }\n",
       "\n",
       "    .dataframe thead th {\n",
       "        text-align: right;\n",
       "    }\n",
       "</style>\n",
       "<table border=\"1\" class=\"dataframe\">\n",
       "  <thead>\n",
       "    <tr style=\"text-align: right;\">\n",
       "      <th></th>\n",
       "      <th>Random Forest + GridSearchCV</th>\n",
       "    </tr>\n",
       "  </thead>\n",
       "  <tbody>\n",
       "    <tr>\n",
       "      <th>0</th>\n",
       "      <td>38.966624</td>\n",
       "    </tr>\n",
       "    <tr>\n",
       "      <th>1</th>\n",
       "      <td>6.558833</td>\n",
       "    </tr>\n",
       "    <tr>\n",
       "      <th>2</th>\n",
       "      <td>53.567455</td>\n",
       "    </tr>\n",
       "    <tr>\n",
       "      <th>3</th>\n",
       "      <td>38.385727</td>\n",
       "    </tr>\n",
       "    <tr>\n",
       "      <th>4</th>\n",
       "      <td>38.868662</td>\n",
       "    </tr>\n",
       "    <tr>\n",
       "      <th>...</th>\n",
       "      <td>...</td>\n",
       "    </tr>\n",
       "    <tr>\n",
       "      <th>201</th>\n",
       "      <td>29.997680</td>\n",
       "    </tr>\n",
       "    <tr>\n",
       "      <th>202</th>\n",
       "      <td>34.475910</td>\n",
       "    </tr>\n",
       "    <tr>\n",
       "      <th>203</th>\n",
       "      <td>63.428361</td>\n",
       "    </tr>\n",
       "    <tr>\n",
       "      <th>204</th>\n",
       "      <td>46.738008</td>\n",
       "    </tr>\n",
       "    <tr>\n",
       "      <th>205</th>\n",
       "      <td>43.600339</td>\n",
       "    </tr>\n",
       "  </tbody>\n",
       "</table>\n",
       "<p>206 rows × 1 columns</p>\n",
       "</div>"
      ],
      "text/plain": [
       "     Random Forest + GridSearchCV\n",
       "0                       38.966624\n",
       "1                        6.558833\n",
       "2                       53.567455\n",
       "3                       38.385727\n",
       "4                       38.868662\n",
       "..                            ...\n",
       "201                     29.997680\n",
       "202                     34.475910\n",
       "203                     63.428361\n",
       "204                     46.738008\n",
       "205                     43.600339\n",
       "\n",
       "[206 rows x 1 columns]"
      ]
     },
     "execution_count": 13,
     "metadata": {},
     "output_type": "execute_result"
    }
   ],
   "source": [
    "#Store predictions for an Ensemble\n",
    "predictions = pd.DataFrame({\"Random Forest + GridSearchCV\" : rf_grid_preds})\n",
    "predictions"
   ]
  },
  {
   "cell_type": "markdown",
   "metadata": {
    "id": "f26xx0L8w15Q"
   },
   "source": [
    "With GridSearchCV, the RMSE of the Random Forest model improves to **4.50**, an improvement over the Random Forest model with default parameters."
   ]
  },
  {
   "cell_type": "markdown",
   "metadata": {
    "id": "EGNLCSewrbMz"
   },
   "source": [
    "## <h3> 4.6. Extreme Gradient Boosting (XGBoost) </h3>\n",
    "\n",
    "Now, I will use an Extreme Gradient Boosting (XGBoost) model. Like before, I will define a pipe that will standardize the data before fitting the model for consistency.\n"
   ]
  },
  {
   "cell_type": "code",
   "execution_count": 14,
   "metadata": {
    "id": "7jE5kHcnrt36"
   },
   "outputs": [],
   "source": [
    "#define XGBoost pipe\n",
    "pipe_xgb = Pipeline([(\"scaler\", StandardScaler()),\n",
    "                     (\"model\", XGBRegressor(random_state = 10))\n",
    "                        \n",
    "])"
   ]
  },
  {
   "cell_type": "code",
   "execution_count": 15,
   "metadata": {
    "colab": {
     "base_uri": "https://localhost:8080/"
    },
    "executionInfo": {
     "elapsed": 546,
     "status": "ok",
     "timestamp": 1635013284538,
     "user": {
      "displayName": "Berkalp Altay",
      "photoUrl": "https://lh3.googleusercontent.com/a/default-user=s64",
      "userId": "04046920140933595149"
     },
     "user_tz": 240
    },
    "id": "KWoAxTFPr0jK",
    "outputId": "7a5caaf6-83af-47ea-c83b-cb488bbabaff"
   },
   "outputs": [
    {
     "name": "stdout",
     "output_type": "stream",
     "text": [
      "\n",
      "Time elapsed: 0.0 hours 0.0 minutes and 0.0 seconds\n"
     ]
    }
   ],
   "source": [
    "#fit XGBoost pipe\n",
    "start_time = time.perf_counter()\n",
    "\n",
    "pipe_xgb.fit(X_train, y_train)\n",
    "\n",
    "end_time = time.perf_counter()\n",
    "print_time(start_time, end_time)"
   ]
  },
  {
   "cell_type": "code",
   "execution_count": 16,
   "metadata": {
    "colab": {
     "base_uri": "https://localhost:8080/"
    },
    "executionInfo": {
     "elapsed": 18,
     "status": "ok",
     "timestamp": 1635013284539,
     "user": {
      "displayName": "Berkalp Altay",
      "photoUrl": "https://lh3.googleusercontent.com/a/default-user=s64",
      "userId": "04046920140933595149"
     },
     "user_tz": 240
    },
    "id": "HoGAitQisccE",
    "outputId": "053da1bb-90dd-4fc3-ff9a-35a9cd806bcc"
   },
   "outputs": [
    {
     "name": "stdout",
     "output_type": "stream",
     "text": [
      "XGBoost RMSE: 4.328552120997665\n"
     ]
    }
   ],
   "source": [
    "#Predict using fitted XGBoost model\n",
    "xgb_preds = pipe_xgb.predict(X_test)\n",
    "\n",
    "xgb_rmse = mean_squared_error(y_test, xgb_preds, squared = False)\n",
    "print(\"XGBoost RMSE:\",xgb_rmse)"
   ]
  },
  {
   "cell_type": "code",
   "execution_count": 17,
   "metadata": {
    "colab": {
     "base_uri": "https://localhost:8080/",
     "height": 235
    },
    "executionInfo": {
     "elapsed": 9,
     "status": "ok",
     "timestamp": 1635013284540,
     "user": {
      "displayName": "Berkalp Altay",
      "photoUrl": "https://lh3.googleusercontent.com/a/default-user=s64",
      "userId": "04046920140933595149"
     },
     "user_tz": 240
    },
    "id": "kC0Lu-USscwB",
    "outputId": "d1be0e31-3dcd-490f-96ed-1033d3572d8a"
   },
   "outputs": [
    {
     "data": {
      "text/html": [
       "<div>\n",
       "<style scoped>\n",
       "    .dataframe tbody tr th:only-of-type {\n",
       "        vertical-align: middle;\n",
       "    }\n",
       "\n",
       "    .dataframe tbody tr th {\n",
       "        vertical-align: top;\n",
       "    }\n",
       "\n",
       "    .dataframe thead th {\n",
       "        text-align: right;\n",
       "    }\n",
       "</style>\n",
       "<table border=\"1\" class=\"dataframe\">\n",
       "  <thead>\n",
       "    <tr style=\"text-align: right;\">\n",
       "      <th></th>\n",
       "      <th>RMSE</th>\n",
       "    </tr>\n",
       "  </thead>\n",
       "  <tbody>\n",
       "    <tr>\n",
       "      <th>Linear Regression</th>\n",
       "      <td>10.659515</td>\n",
       "    </tr>\n",
       "    <tr>\n",
       "      <th>KNN</th>\n",
       "      <td>8.557282</td>\n",
       "    </tr>\n",
       "    <tr>\n",
       "      <th>KNN + GridSearchCV</th>\n",
       "      <td>7.384883</td>\n",
       "    </tr>\n",
       "    <tr>\n",
       "      <th>Random Forest</th>\n",
       "      <td>4.710442</td>\n",
       "    </tr>\n",
       "    <tr>\n",
       "      <th>Random Forest + GridSearchCV</th>\n",
       "      <td>4.504617</td>\n",
       "    </tr>\n",
       "    <tr>\n",
       "      <th>XGBoost</th>\n",
       "      <td>4.328552</td>\n",
       "    </tr>\n",
       "  </tbody>\n",
       "</table>\n",
       "</div>"
      ],
      "text/plain": [
       "                                   RMSE\n",
       "Linear Regression             10.659515\n",
       "KNN                            8.557282\n",
       "KNN + GridSearchCV             7.384883\n",
       "Random Forest                  4.710442\n",
       "Random Forest + GridSearchCV   4.504617\n",
       "XGBoost                        4.328552"
      ]
     },
     "execution_count": 17,
     "metadata": {},
     "output_type": "execute_result"
    }
   ],
   "source": [
    "#Store results\n",
    "results.loc[\"XGBoost\"] = xgb_rmse\n",
    "results"
   ]
  },
  {
   "cell_type": "markdown",
   "metadata": {
    "id": "lOjyUXkFysW7"
   },
   "source": [
    "XGBoost with its default hyperparameters gives an RMSE of **4.33**."
   ]
  },
  {
   "cell_type": "markdown",
   "metadata": {
    "id": "Z5144zb9W2w6"
   },
   "source": [
    "## <h3> 4.7. Extreme Gradient Boosting (XGBoost) with BayesSearchCV</h3>\n",
    "\n",
    "Now, I will optimize some hyperparameters of the Extreme Gradient Boosting (XGBoost) model using BayesSearchCV. BayesSearchCV from scikit-optimize library is used to conduct Bayesian optimization with cross validation.\n"
   ]
  },
  {
   "cell_type": "code",
   "execution_count": 18,
   "metadata": {
    "id": "Rksv6QtM9FL_"
   },
   "outputs": [],
   "source": [
    "#Define XGBoost + BayesSearchCV pipe\n",
    "pipe_xgb_bo = Pipeline([(\"scaler\", StandardScaler()),\n",
    "                          (\"model\", XGBRegressor(random_state = 10,\n",
    "                                                 objective = \"reg:squarederror\",\n",
    "                                                 verbosity = 0))\n",
    "                        \n",
    "])\n",
    "#Define parameter space\n",
    "params_xgb_bo = {'model__n_estimators': space.Integer(100, 1000, 'log-uniform'),\n",
    "              'model__learning_rate': space.Real(10e-6, 1.0, 'log-uniform'),\n",
    "              'model__max_depth': space.Integer(0, 50, 'uniform')\n",
    "           }\n",
    "\n",
    "\n",
    "#use n_jobs = -1 to use all processors\n",
    "xgb_bo = BayesSearchCV(pipe_xgb_bo, \n",
    "                       params_xgb_bo, \n",
    "                       n_iter=50, \n",
    "                       cv=10, \n",
    "                       random_state = 10, \n",
    "                       scoring='neg_root_mean_squared_error')"
   ]
  },
  {
   "cell_type": "code",
   "execution_count": 19,
   "metadata": {
    "colab": {
     "base_uri": "https://localhost:8080/"
    },
    "executionInfo": {
     "elapsed": 386347,
     "status": "ok",
     "timestamp": 1635015081976,
     "user": {
      "displayName": "Berkalp Altay",
      "photoUrl": "https://lh3.googleusercontent.com/a/default-user=s64",
      "userId": "04046920140933595149"
     },
     "user_tz": 240
    },
    "id": "SwQQygyN9FT3",
    "outputId": "2139077b-329b-4b2c-f523-7908f440720f"
   },
   "outputs": [
    {
     "name": "stdout",
     "output_type": "stream",
     "text": [
      "\n",
      "Time elapsed: 0.0 hours 8.0 minutes and 5.0 seconds\n"
     ]
    }
   ],
   "source": [
    "#Fit XGBoost + BayesSearchCV\n",
    "start_time = time.perf_counter()\n",
    "\n",
    "xgb_bo.fit(X_train, y_train)\n",
    "\n",
    "end_time = time.perf_counter()\n",
    "print_time(start_time, end_time)"
   ]
  },
  {
   "cell_type": "code",
   "execution_count": 20,
   "metadata": {
    "colab": {
     "base_uri": "https://localhost:8080/"
    },
    "executionInfo": {
     "elapsed": 10,
     "status": "ok",
     "timestamp": 1635015081977,
     "user": {
      "displayName": "Berkalp Altay",
      "photoUrl": "https://lh3.googleusercontent.com/a/default-user=s64",
      "userId": "04046920140933595149"
     },
     "user_tz": 240
    },
    "id": "Drz4_pqV9FbO",
    "outputId": "1cdce65a-4458-4fe9-9871-86b501ded334"
   },
   "outputs": [
    {
     "name": "stdout",
     "output_type": "stream",
     "text": [
      "OrderedDict([('model__learning_rate', 0.08920889597332297), ('model__max_depth', 40), ('model__n_estimators', 1000)])\n"
     ]
    }
   ],
   "source": [
    "#Print best parameters\n",
    "print(xgb_bo.best_params_)"
   ]
  },
  {
   "cell_type": "code",
   "execution_count": 21,
   "metadata": {
    "colab": {
     "base_uri": "https://localhost:8080/"
    },
    "executionInfo": {
     "elapsed": 255,
     "status": "ok",
     "timestamp": 1635015168910,
     "user": {
      "displayName": "Berkalp Altay",
      "photoUrl": "https://lh3.googleusercontent.com/a/default-user=s64",
      "userId": "04046920140933595149"
     },
     "user_tz": 240
    },
    "id": "yQiGY1Lf9yt9",
    "outputId": "537ba88a-7256-455c-e0cd-410be9c9fd1d"
   },
   "outputs": [
    {
     "name": "stdout",
     "output_type": "stream",
     "text": [
      "XGBoost + BayesSearchCV RMSE: 4.13665462019597\n"
     ]
    }
   ],
   "source": [
    "#Predict using fitted XGBoost + BayesSearchCV model\n",
    "xgb_bo_preds = xgb_bo.best_estimator_.predict(X_test)\n",
    "\n",
    "xgb_bo_rmse = mean_squared_error(y_test, xgb_bo_preds, squared = False)\n",
    "print(\"XGBoost + BayesSearchCV RMSE:\",xgb_bo_rmse)"
   ]
  },
  {
   "cell_type": "code",
   "execution_count": 22,
   "metadata": {
    "colab": {
     "base_uri": "https://localhost:8080/",
     "height": 297
    },
    "executionInfo": {
     "elapsed": 261,
     "status": "ok",
     "timestamp": 1635015185963,
     "user": {
      "displayName": "Berkalp Altay",
      "photoUrl": "https://lh3.googleusercontent.com/a/default-user=s64",
      "userId": "04046920140933595149"
     },
     "user_tz": 240
    },
    "id": "g-b7f9Rc9zKm",
    "outputId": "454aef36-553c-43b5-bd80-db295afd0675"
   },
   "outputs": [
    {
     "data": {
      "text/html": [
       "<div>\n",
       "<style scoped>\n",
       "    .dataframe tbody tr th:only-of-type {\n",
       "        vertical-align: middle;\n",
       "    }\n",
       "\n",
       "    .dataframe tbody tr th {\n",
       "        vertical-align: top;\n",
       "    }\n",
       "\n",
       "    .dataframe thead th {\n",
       "        text-align: right;\n",
       "    }\n",
       "</style>\n",
       "<table border=\"1\" class=\"dataframe\">\n",
       "  <thead>\n",
       "    <tr style=\"text-align: right;\">\n",
       "      <th></th>\n",
       "      <th>RMSE</th>\n",
       "    </tr>\n",
       "  </thead>\n",
       "  <tbody>\n",
       "    <tr>\n",
       "      <th>Linear Regression</th>\n",
       "      <td>10.659515</td>\n",
       "    </tr>\n",
       "    <tr>\n",
       "      <th>KNN</th>\n",
       "      <td>8.557282</td>\n",
       "    </tr>\n",
       "    <tr>\n",
       "      <th>KNN + GridSearchCV</th>\n",
       "      <td>7.384883</td>\n",
       "    </tr>\n",
       "    <tr>\n",
       "      <th>Random Forest</th>\n",
       "      <td>4.710442</td>\n",
       "    </tr>\n",
       "    <tr>\n",
       "      <th>Random Forest + GridSearchCV</th>\n",
       "      <td>4.504617</td>\n",
       "    </tr>\n",
       "    <tr>\n",
       "      <th>XGBoost</th>\n",
       "      <td>4.328552</td>\n",
       "    </tr>\n",
       "    <tr>\n",
       "      <th>XGBoost + BayesSearchCV</th>\n",
       "      <td>4.136655</td>\n",
       "    </tr>\n",
       "  </tbody>\n",
       "</table>\n",
       "</div>"
      ],
      "text/plain": [
       "                                   RMSE\n",
       "Linear Regression             10.659515\n",
       "KNN                            8.557282\n",
       "KNN + GridSearchCV             7.384883\n",
       "Random Forest                  4.710442\n",
       "Random Forest + GridSearchCV   4.504617\n",
       "XGBoost                        4.328552\n",
       "XGBoost + BayesSearchCV        4.136655"
      ]
     },
     "execution_count": 22,
     "metadata": {},
     "output_type": "execute_result"
    }
   ],
   "source": [
    "#Store results\n",
    "results.loc[\"XGBoost + BayesSearchCV\"] = xgb_bo_rmse\n",
    "results"
   ]
  },
  {
   "cell_type": "code",
   "execution_count": 23,
   "metadata": {
    "colab": {
     "base_uri": "https://localhost:8080/",
     "height": 419
    },
    "executionInfo": {
     "elapsed": 273,
     "status": "ok",
     "timestamp": 1635015190395,
     "user": {
      "displayName": "Berkalp Altay",
      "photoUrl": "https://lh3.googleusercontent.com/a/default-user=s64",
      "userId": "04046920140933595149"
     },
     "user_tz": 240
    },
    "id": "7JTyOC0K99OT",
    "outputId": "f6756857-22eb-4969-934f-d56263748947"
   },
   "outputs": [
    {
     "data": {
      "text/html": [
       "<div>\n",
       "<style scoped>\n",
       "    .dataframe tbody tr th:only-of-type {\n",
       "        vertical-align: middle;\n",
       "    }\n",
       "\n",
       "    .dataframe tbody tr th {\n",
       "        vertical-align: top;\n",
       "    }\n",
       "\n",
       "    .dataframe thead th {\n",
       "        text-align: right;\n",
       "    }\n",
       "</style>\n",
       "<table border=\"1\" class=\"dataframe\">\n",
       "  <thead>\n",
       "    <tr style=\"text-align: right;\">\n",
       "      <th></th>\n",
       "      <th>Random Forest + GridSearchCV</th>\n",
       "      <th>XGBoost + BayesSearchCV</th>\n",
       "    </tr>\n",
       "  </thead>\n",
       "  <tbody>\n",
       "    <tr>\n",
       "      <th>0</th>\n",
       "      <td>38.966624</td>\n",
       "      <td>42.218987</td>\n",
       "    </tr>\n",
       "    <tr>\n",
       "      <th>1</th>\n",
       "      <td>6.558833</td>\n",
       "      <td>4.965951</td>\n",
       "    </tr>\n",
       "    <tr>\n",
       "      <th>2</th>\n",
       "      <td>53.567455</td>\n",
       "      <td>52.095085</td>\n",
       "    </tr>\n",
       "    <tr>\n",
       "      <th>3</th>\n",
       "      <td>38.385727</td>\n",
       "      <td>38.684082</td>\n",
       "    </tr>\n",
       "    <tr>\n",
       "      <th>4</th>\n",
       "      <td>38.868662</td>\n",
       "      <td>35.667572</td>\n",
       "    </tr>\n",
       "    <tr>\n",
       "      <th>...</th>\n",
       "      <td>...</td>\n",
       "      <td>...</td>\n",
       "    </tr>\n",
       "    <tr>\n",
       "      <th>201</th>\n",
       "      <td>29.997680</td>\n",
       "      <td>27.292423</td>\n",
       "    </tr>\n",
       "    <tr>\n",
       "      <th>202</th>\n",
       "      <td>34.475910</td>\n",
       "      <td>31.838600</td>\n",
       "    </tr>\n",
       "    <tr>\n",
       "      <th>203</th>\n",
       "      <td>63.428361</td>\n",
       "      <td>62.630512</td>\n",
       "    </tr>\n",
       "    <tr>\n",
       "      <th>204</th>\n",
       "      <td>46.738008</td>\n",
       "      <td>51.595390</td>\n",
       "    </tr>\n",
       "    <tr>\n",
       "      <th>205</th>\n",
       "      <td>43.600339</td>\n",
       "      <td>41.720169</td>\n",
       "    </tr>\n",
       "  </tbody>\n",
       "</table>\n",
       "<p>206 rows × 2 columns</p>\n",
       "</div>"
      ],
      "text/plain": [
       "     Random Forest + GridSearchCV  XGBoost + BayesSearchCV\n",
       "0                       38.966624                42.218987\n",
       "1                        6.558833                 4.965951\n",
       "2                       53.567455                52.095085\n",
       "3                       38.385727                38.684082\n",
       "4                       38.868662                35.667572\n",
       "..                            ...                      ...\n",
       "201                     29.997680                27.292423\n",
       "202                     34.475910                31.838600\n",
       "203                     63.428361                62.630512\n",
       "204                     46.738008                51.595390\n",
       "205                     43.600339                41.720169\n",
       "\n",
       "[206 rows x 2 columns]"
      ]
     },
     "execution_count": 23,
     "metadata": {},
     "output_type": "execute_result"
    }
   ],
   "source": [
    "#Store predictions for an Ensemble\n",
    "predictions[\"XGBoost + BayesSearchCV\"] = xgb_bo_preds\n",
    "predictions"
   ]
  },
  {
   "cell_type": "markdown",
   "metadata": {
    "id": "eEryu6EkhU0S"
   },
   "source": [
    "XGBoost + BayesSearchCV gives an RMSE of **4.14**."
   ]
  },
  {
   "cell_type": "markdown",
   "metadata": {
    "id": "ceMPHOfiBqkm"
   },
   "source": [
    "## <h3> 4.8. Ensemble </h3>\n",
    "\n",
    "Now, I will combine the predictions made by the Random Forest + GridSearchCV model with the ones by XGBoost + BayesSearchCV to improve the results. I will take their mean for the ensemble model."
   ]
  },
  {
   "cell_type": "code",
   "execution_count": 24,
   "metadata": {
    "colab": {
     "base_uri": "https://localhost:8080/",
     "height": 419
    },
    "executionInfo": {
     "elapsed": 273,
     "status": "ok",
     "timestamp": 1635015209437,
     "user": {
      "displayName": "Berkalp Altay",
      "photoUrl": "https://lh3.googleusercontent.com/a/default-user=s64",
      "userId": "04046920140933595149"
     },
     "user_tz": 240
    },
    "id": "1PfRpH39CdMb",
    "outputId": "d64c797c-c3e9-4509-85ec-24760a88d82f"
   },
   "outputs": [
    {
     "data": {
      "text/html": [
       "<div>\n",
       "<style scoped>\n",
       "    .dataframe tbody tr th:only-of-type {\n",
       "        vertical-align: middle;\n",
       "    }\n",
       "\n",
       "    .dataframe tbody tr th {\n",
       "        vertical-align: top;\n",
       "    }\n",
       "\n",
       "    .dataframe thead th {\n",
       "        text-align: right;\n",
       "    }\n",
       "</style>\n",
       "<table border=\"1\" class=\"dataframe\">\n",
       "  <thead>\n",
       "    <tr style=\"text-align: right;\">\n",
       "      <th></th>\n",
       "      <th>Random Forest + GridSearchCV</th>\n",
       "      <th>XGBoost + BayesSearchCV</th>\n",
       "      <th>Ensemble</th>\n",
       "    </tr>\n",
       "  </thead>\n",
       "  <tbody>\n",
       "    <tr>\n",
       "      <th>0</th>\n",
       "      <td>38.966624</td>\n",
       "      <td>42.218987</td>\n",
       "      <td>40.592805</td>\n",
       "    </tr>\n",
       "    <tr>\n",
       "      <th>1</th>\n",
       "      <td>6.558833</td>\n",
       "      <td>4.965951</td>\n",
       "      <td>5.762392</td>\n",
       "    </tr>\n",
       "    <tr>\n",
       "      <th>2</th>\n",
       "      <td>53.567455</td>\n",
       "      <td>52.095085</td>\n",
       "      <td>52.831270</td>\n",
       "    </tr>\n",
       "    <tr>\n",
       "      <th>3</th>\n",
       "      <td>38.385727</td>\n",
       "      <td>38.684082</td>\n",
       "      <td>38.534905</td>\n",
       "    </tr>\n",
       "    <tr>\n",
       "      <th>4</th>\n",
       "      <td>38.868662</td>\n",
       "      <td>35.667572</td>\n",
       "      <td>37.268117</td>\n",
       "    </tr>\n",
       "    <tr>\n",
       "      <th>...</th>\n",
       "      <td>...</td>\n",
       "      <td>...</td>\n",
       "      <td>...</td>\n",
       "    </tr>\n",
       "    <tr>\n",
       "      <th>201</th>\n",
       "      <td>29.997680</td>\n",
       "      <td>27.292423</td>\n",
       "      <td>28.645052</td>\n",
       "    </tr>\n",
       "    <tr>\n",
       "      <th>202</th>\n",
       "      <td>34.475910</td>\n",
       "      <td>31.838600</td>\n",
       "      <td>33.157255</td>\n",
       "    </tr>\n",
       "    <tr>\n",
       "      <th>203</th>\n",
       "      <td>63.428361</td>\n",
       "      <td>62.630512</td>\n",
       "      <td>63.029436</td>\n",
       "    </tr>\n",
       "    <tr>\n",
       "      <th>204</th>\n",
       "      <td>46.738008</td>\n",
       "      <td>51.595390</td>\n",
       "      <td>49.166699</td>\n",
       "    </tr>\n",
       "    <tr>\n",
       "      <th>205</th>\n",
       "      <td>43.600339</td>\n",
       "      <td>41.720169</td>\n",
       "      <td>42.660254</td>\n",
       "    </tr>\n",
       "  </tbody>\n",
       "</table>\n",
       "<p>206 rows × 3 columns</p>\n",
       "</div>"
      ],
      "text/plain": [
       "     Random Forest + GridSearchCV  XGBoost + BayesSearchCV   Ensemble\n",
       "0                       38.966624                42.218987  40.592805\n",
       "1                        6.558833                 4.965951   5.762392\n",
       "2                       53.567455                52.095085  52.831270\n",
       "3                       38.385727                38.684082  38.534905\n",
       "4                       38.868662                35.667572  37.268117\n",
       "..                            ...                      ...        ...\n",
       "201                     29.997680                27.292423  28.645052\n",
       "202                     34.475910                31.838600  33.157255\n",
       "203                     63.428361                62.630512  63.029436\n",
       "204                     46.738008                51.595390  49.166699\n",
       "205                     43.600339                41.720169  42.660254\n",
       "\n",
       "[206 rows x 3 columns]"
      ]
     },
     "execution_count": 24,
     "metadata": {},
     "output_type": "execute_result"
    }
   ],
   "source": [
    "#Take the average of predictions made by XGBoost and Random Forest + GridSearchCV\n",
    "ensemble_preds = (predictions.iloc[:, 0] + predictions.iloc[:, 1])/2\n",
    "predictions[\"Ensemble\"] = ensemble_preds\n",
    "predictions"
   ]
  },
  {
   "cell_type": "code",
   "execution_count": 25,
   "metadata": {
    "colab": {
     "base_uri": "https://localhost:8080/"
    },
    "executionInfo": {
     "elapsed": 5,
     "status": "ok",
     "timestamp": 1635015211806,
     "user": {
      "displayName": "Berkalp Altay",
      "photoUrl": "https://lh3.googleusercontent.com/a/default-user=s64",
      "userId": "04046920140933595149"
     },
     "user_tz": 240
    },
    "id": "ZEfdvgo6DUpU",
    "outputId": "355e09fd-ce26-4822-821d-7bc0ba0b876c"
   },
   "outputs": [
    {
     "name": "stdout",
     "output_type": "stream",
     "text": [
      "Ensemble 4.123771328786997\n"
     ]
    }
   ],
   "source": [
    "ensemble_rmse = mean_squared_error(y_test, ensemble_preds, squared = False)\n",
    "print(\"Ensemble\", ensemble_rmse)"
   ]
  },
  {
   "cell_type": "code",
   "execution_count": 26,
   "metadata": {
    "colab": {
     "base_uri": "https://localhost:8080/",
     "height": 297
    },
    "executionInfo": {
     "elapsed": 243,
     "status": "ok",
     "timestamp": 1635015214614,
     "user": {
      "displayName": "Berkalp Altay",
      "photoUrl": "https://lh3.googleusercontent.com/a/default-user=s64",
      "userId": "04046920140933595149"
     },
     "user_tz": 240
    },
    "id": "oBa6uUUCFoZV",
    "outputId": "9dd5ba95-d2c6-41b1-d261-8c8c3dd8bd5f"
   },
   "outputs": [
    {
     "data": {
      "text/html": [
       "<div>\n",
       "<style scoped>\n",
       "    .dataframe tbody tr th:only-of-type {\n",
       "        vertical-align: middle;\n",
       "    }\n",
       "\n",
       "    .dataframe tbody tr th {\n",
       "        vertical-align: top;\n",
       "    }\n",
       "\n",
       "    .dataframe thead th {\n",
       "        text-align: right;\n",
       "    }\n",
       "</style>\n",
       "<table border=\"1\" class=\"dataframe\">\n",
       "  <thead>\n",
       "    <tr style=\"text-align: right;\">\n",
       "      <th></th>\n",
       "      <th>RMSE</th>\n",
       "    </tr>\n",
       "  </thead>\n",
       "  <tbody>\n",
       "    <tr>\n",
       "      <th>Linear Regression</th>\n",
       "      <td>10.659515</td>\n",
       "    </tr>\n",
       "    <tr>\n",
       "      <th>KNN</th>\n",
       "      <td>8.557282</td>\n",
       "    </tr>\n",
       "    <tr>\n",
       "      <th>KNN + GridSearchCV</th>\n",
       "      <td>7.384883</td>\n",
       "    </tr>\n",
       "    <tr>\n",
       "      <th>Random Forest</th>\n",
       "      <td>4.710442</td>\n",
       "    </tr>\n",
       "    <tr>\n",
       "      <th>Random Forest + GridSearchCV</th>\n",
       "      <td>4.504617</td>\n",
       "    </tr>\n",
       "    <tr>\n",
       "      <th>XGBoost</th>\n",
       "      <td>4.328552</td>\n",
       "    </tr>\n",
       "    <tr>\n",
       "      <th>XGBoost + BayesSearchCV</th>\n",
       "      <td>4.136655</td>\n",
       "    </tr>\n",
       "    <tr>\n",
       "      <th>Ensemble</th>\n",
       "      <td>4.123771</td>\n",
       "    </tr>\n",
       "  </tbody>\n",
       "</table>\n",
       "</div>"
      ],
      "text/plain": [
       "                                   RMSE\n",
       "Linear Regression             10.659515\n",
       "KNN                            8.557282\n",
       "KNN + GridSearchCV             7.384883\n",
       "Random Forest                  4.710442\n",
       "Random Forest + GridSearchCV   4.504617\n",
       "XGBoost                        4.328552\n",
       "XGBoost + BayesSearchCV        4.136655\n",
       "Ensemble                       4.123771"
      ]
     },
     "execution_count": 26,
     "metadata": {},
     "output_type": "execute_result"
    }
   ],
   "source": [
    "#Store results\n",
    "results.loc[\"Ensemble\"] = ensemble_rmse\n",
    "results"
   ]
  },
  {
   "cell_type": "markdown",
   "metadata": {
    "id": "ocZXaT3fhAZV"
   },
   "source": [
    "The ensemble model using Random Forest + GridSearchCV and XGBoost + BayesSearchCV gives an RMSE of **4.12**."
   ]
  },
  {
   "cell_type": "markdown",
   "metadata": {
    "id": "swaSAELCCzIT"
   },
   "source": [
    "Let's save the latest version of the model results and the ensemble predictions as csv files."
   ]
  },
  {
   "cell_type": "code",
   "execution_count": 27,
   "metadata": {
    "id": "lOto4s5KC6ca"
   },
   "outputs": [],
   "source": [
    "#Save model results as a csv file\n",
    "results.to_csv('saved_files/concrete_model_results.csv', index=True)\n",
    "#Save ensemble predictions as a csv file\n",
    "predictions.to_csv('saved_files/concrete_ensemble_predictions.csv', index=False)"
   ]
  },
  {
   "cell_type": "markdown",
   "metadata": {
    "id": "ax1tnYfvHUs7"
   },
   "source": [
    "# <h2> 5. Conclusion </h2>\n",
    "\n",
    "As seen the results table above, the Ensemble model of both Random Forest + GridSearchCV and XGBoost + BayesSearchCV obtained the best result with an RMSE of **4.12** while the XGBoost + BayesSearchCV was the second best model with an RMSE of **4.14**.\n",
    "\n",
    "The Ensemble model improved the RMSE score by around **6.54** MPa (i.e. megapascals) from the base Linear Regression Model.\n",
    "\n",
    "Next, in another notebook, I will use Neural Networks to try to obtain an even lower RMSE score. \n",
    "\n",
    "Overall, this data set was an interesting set."
   ]
  }
 ],
 "metadata": {
  "accelerator": "GPU",
  "colab": {
   "authorship_tag": "ABX9TyPBwaiTTK9zv0wW620D8c/F",
   "collapsed_sections": [],
   "name": "4. Modeling Part 2.ipynb",
   "provenance": [
    {
     "file_id": "1Dks0BxGpnhyEtRwFMVYREH33nVMybcnh",
     "timestamp": 1635012694681
    }
   ],
   "toc_visible": true
  },
  "kernelspec": {
   "display_name": "Python 3",
   "language": "python",
   "name": "python3"
  },
  "language_info": {
   "codemirror_mode": {
    "name": "ipython",
    "version": 3
   },
   "file_extension": ".py",
   "mimetype": "text/x-python",
   "name": "python",
   "nbconvert_exporter": "python",
   "pygments_lexer": "ipython3",
   "version": "3.8.8"
  }
 },
 "nbformat": 4,
 "nbformat_minor": 1
}
